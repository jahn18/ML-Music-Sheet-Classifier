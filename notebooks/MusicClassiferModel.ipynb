{
  "nbformat": 4,
  "nbformat_minor": 0,
  "metadata": {
    "accelerator": "GPU",
    "colab": {
      "name": "CPEN 291 Project.ipynb",
      "provenance": [],
      "collapsed_sections": [],
      "machine_shape": "hm"
    },
    "kernelspec": {
      "display_name": "Python 3",
      "name": "python3"
    },
    "language_info": {
      "name": "python"
    }
  },
  "cells": [
    {
      "cell_type": "code",
      "metadata": {
        "id": "lrKy6xY7B6j5"
      },
      "source": [
        "# You can get more datasets here https://repository.cloudlab.zhaw.ch/artifactory/deepscores/archives/2017/\n",
        "\n",
        "!wget https://grfia.dlsi.ua.es/primus/packages/CameraPrIMuS.tgz\n",
        "!wget https://raw.githubusercontent.com/OMR-Research/tf-end-to-end/master/Data/vocabulary_semantic.txt\n",
        "!wget https://raw.githubusercontent.com/OMR-Research/tf-end-to-end/master/Data/train.txt\n",
        "!wget https://raw.githubusercontent.com/OMR-Research/tf-end-to-end/master/Data/test.txt"
      ],
      "execution_count": null,
      "outputs": []
    },
    {
      "cell_type": "code",
      "metadata": {
        "id": "w2Den4MDy-fh"
      },
      "source": [
        "!tar -xvf CameraPrIMuS.tgz \n",
        "#!tar -xvf primusCalvoRizoAppliedSciences2018.tgz "
      ],
      "execution_count": null,
      "outputs": []
    },
    {
      "cell_type": "code",
      "metadata": {
        "colab": {
          "base_uri": "https://localhost:8080/"
        },
        "id": "RG_3TDXaB2--",
        "outputId": "62a458c4-e61f-4a18-81f1-75ac40048557"
      },
      "source": [
        "# Modle is added to my google drive. \n",
        "from google.colab import drive\n",
        "drive.mount('/content/drive')"
      ],
      "execution_count": null,
      "outputs": [
        {
          "output_type": "stream",
          "text": [
            "Mounted at /content/drive\n"
          ],
          "name": "stdout"
        }
      ]
    },
    {
      "cell_type": "code",
      "metadata": {
        "id": "60XUfW_7CFtz"
      },
      "source": [
        "import sys\n",
        "sys.path.append('/content/drive/My Drive/ColabNotebooks/tf-end-to-end_v2')"
      ],
      "execution_count": null,
      "outputs": []
    },
    {
      "cell_type": "code",
      "metadata": {
        "id": "e2de8AS6wUCh"
      },
      "source": [
        "import torch, torchvision, PIL, numpy as np\n",
        "import pathlib\n",
        "import PIL\n",
        "import matplotlib.pyplot as plt\n",
        "import matplotlib.patches as patches\n",
        "import csv\n",
        "import pandas as pd\n",
        "import pdb\n",
        "import numpy as np\n",
        "import cv2\n",
        "import random\n",
        "from tqdm.auto import tqdm\n",
        "import pdb\n",
        "from PIL import *"
      ],
      "execution_count": null,
      "outputs": []
    },
    {
      "cell_type": "code",
      "metadata": {
        "id": "DT51mf9Sutvg"
      },
      "source": [
        "class MusicClassificationObject:\n",
        "\n",
        "  def __init__(self, dataset_dir, dataset_filenames, dictionary_path, transform=None, label_transform=None, distortions=False):\n",
        "        self.distortions = distortions\n",
        "        self.dataset_dir = dataset_dir\n",
        "        self.transform = transform \n",
        "        self.label_transform = label_transform\n",
        "\n",
        "        dataset_filenames = open(dataset_filenames,'r')\n",
        "        dataset_list = dataset_filenames.read().splitlines()\n",
        "        dataset_filenames.close()\n",
        "\n",
        "        self.current_idx = 0\n",
        "        # Dictionary\n",
        "        self.symbol2index = {}\n",
        "        self.index2symbol = {}\n",
        "            \n",
        "        dict_file = open(dictionary_path,'r')\n",
        "        dict_list = dict_file.read().splitlines()\n",
        "        word_idx = 0\n",
        "\n",
        "        for word in dict_list:\n",
        "          self.symbol2index[word] = word_idx\n",
        "          self.index2symbol[word_idx] = word\n",
        "          word_idx += 1 \n",
        "\n",
        "        dict_file.close()\n",
        "\n",
        "        self.dataset = self.createDataset(dataset_list)\n",
        "        self.vocabulary_size = len(self.symbol2index)\n",
        "  \n",
        "  def createDataset(self, dataset_list):\n",
        "    dataset = []\n",
        "    i = 0\n",
        "    for sample in dataset_list:\n",
        "      sample_filepath = self.dataset_dir + '/' + sample + '/' + sample\n",
        "      sample_semantic = sample_filepath + '.semantic'\n",
        "      sample_gt_file = open(sample_semantic, 'r')\n",
        "      sample_gt_plain = sample_gt_file.readline().split()\n",
        "      sample_gt_file.close()\n",
        "      # (img file name, all the notations sequentially related to the file)\n",
        "      dataset.append((sample_filepath + '.png', [self.symbol2index[lab] for lab in sample_gt_plain]))\n",
        "    return dataset\n",
        "\n",
        "  def __len__(self):\n",
        "    return len(self.dataset)\n",
        "  \n",
        "  def __getitem__(self, i):\n",
        "    if torch.is_tensor(i):\n",
        "        i = i.item()\n",
        "    imgfn, label = self.dataset[i]\n",
        "    img = PIL.Image.open(imgfn)\n",
        "    img = ImageOps.grayscale(img)\n",
        "    img = ImageOps.invert(img)\n",
        "    if self.transform:\n",
        "        img = self.transform(img)\n",
        "    return (img.type(torch.FloatTensor), torch.tensor(label))\n"
      ],
      "execution_count": null,
      "outputs": []
    },
    {
      "cell_type": "code",
      "metadata": {
        "id": "vd_ME7pQ1QiC"
      },
      "source": [
        "img_height = 128\n",
        "xform = torchvision.transforms.Compose([torchvision.transforms.Resize(img_height), torchvision.transforms.ToTensor()])\n",
        "music_dataset = MusicClassificationObject('Corpus', 'train.txt', 'vocabulary_semantic.txt', xform)"
      ],
      "execution_count": null,
      "outputs": []
    },
    {
      "cell_type": "code",
      "metadata": {
        "id": "iDtm97Rb3wKt"
      },
      "source": [
        "def show_img(sample, title=None):\n",
        "    img = sample\n",
        "    if torch.is_tensor(img):\n",
        "        img = img.cpu().permute(1,2,0)\n",
        "    plt.imshow(img[:,:,0])\n",
        "    if title:\n",
        "        plt.title(title) # add color='w' arg if using a dark background\n",
        "    plt.axis('off')"
      ],
      "execution_count": null,
      "outputs": []
    },
    {
      "cell_type": "code",
      "metadata": {
        "colab": {
          "base_uri": "https://localhost:8080/",
          "height": 65
        },
        "id": "UGzjGE1f37RR",
        "outputId": "4933f265-68ae-4e48-d801-83a80cd1e1df"
      },
      "source": [
        "show_img(music_dataset[0][0])"
      ],
      "execution_count": null,
      "outputs": [
        {
          "output_type": "display_data",
          "data": {
            "image/png": "[encoded data removed]",
            "text/plain": [
              "<Figure size 432x288 with 1 Axes>"
            ]
          },
          "metadata": {
            "tags": [],
            "needs_background": "light"
          }
        }
      ]
    },
    {
      "cell_type": "code",
      "metadata": {
        "id": "5TjBG0bA8bKj"
      },
      "source": [
        "def data_processing(data):\n",
        "  max_image_width = 3900\n",
        "  img_channels = 1\n",
        "  img_height = 128\n",
        "  image_batches = []\n",
        "  labels = []\n",
        "  # Pads the given dataset. \n",
        "  for sample, label in data:\n",
        "    batch_image = torch.ones([img_channels, img_height, max_image_width]).type(torch.FloatTensor)*0\n",
        "    batch_image[0, :sample.shape[1], :sample.shape[2]] = sample\n",
        "\n",
        "    image_batches.append(batch_image)\n",
        "    labels.append(label)\n",
        "  \n",
        "  image_batches = nn.utils.rnn.pad_sequence(image_batches, batch_first=True)\n",
        "  labels = nn.utils.rnn.pad_sequence(labels, batch_first=True)\n",
        "\n",
        "  return image_batches, labels"
      ],
      "execution_count": null,
      "outputs": []
    },
    {
      "cell_type": "code",
      "metadata": {
        "id": "uYh-q4v9oUrv"
      },
      "source": [
        "n_all_det = len(music_dataset)\n",
        "n_used_det = int(1 * n_all_det)\n",
        "n_train_det = int(0.8 * n_used_det)\n",
        "n_test_det = n_used_det - n_train_det\n",
        "rng_det = torch.Generator().manual_seed(291)\n",
        "dataset_train, dataset_test, _ = torch.utils.data.random_split(music_dataset, [n_train_det, n_test_det, n_all_det-n_train_det-n_test_det], rng_det)\n",
        "\n",
        "train_loader = torch.utils.data.DataLoader(dataset=dataset_train,\n",
        "                                batch_size=16,\n",
        "                                shuffle=True,\n",
        "                                collate_fn=lambda x: data_processing(x))\n",
        "test_loader = torch.utils.data.DataLoader(dataset=dataset_test,\n",
        "                                batch_size=16,\n",
        "                                shuffle=True,\n",
        "                                collate_fn=lambda x: data_processing(x))"
      ],
      "execution_count": null,
      "outputs": []
    },
    {
      "cell_type": "code",
      "metadata": {
        "id": "uTHcrnFy7_hl"
      },
      "source": [
        "from torch.nn import functional as F\n",
        "from torch import nn\n",
        "\n",
        "class MusicModel(nn.Module):\n",
        "  def __init__(self, num_notes):\n",
        "      super(MusicModel, self).__init__()\n",
        "      self.conv_1 = nn.Conv2d(1, 32, kernel_size=(3,3), padding=(1,1))\n",
        "      self.max_pool_1 = nn.MaxPool2d(kernel_size=(2,2))  \n",
        "      self.conv_2 = nn.Conv2d(32, 64, kernel_size=(3,3), padding=(1,1))\n",
        "      self.max_pool_2 = nn.MaxPool2d(kernel_size=(2,2))\n",
        "      self.conv_3 = nn.Conv2d(64, 128, kernel_size=(3,3), padding=(1,1))\n",
        "      self.max_pool_3 = nn.MaxPool2d(kernel_size=(2,2))\n",
        "      self.conv_4 = nn.Conv2d(128, 256, kernel_size=(3,3), padding=(1,1))\n",
        "      self.max_pool_4 = nn.MaxPool2d(kernel_size=(2,2))\n",
        "\n",
        "      self.linear_1 = nn.Linear(2048, 256)\n",
        "      self.drop_1 = nn.Dropout(0.2) \n",
        "\n",
        "      self.gru = nn.GRU(256, 128, bidirectional=True, num_layers=2, dropout=0.25, batch_first=True)\n",
        "      self.output = nn.Linear(256, num_notes + 1)\n",
        "\n",
        "  def forward(self, images, targets=None):\n",
        "      bs, c, h, w = images.size()\n",
        "      #print(bs, c, h, w)\n",
        "      x = F.relu(self.conv_1(images))\n",
        "      #print(x.size())\n",
        "      x = self.max_pool_1(x)\n",
        "      #print(x.size())\n",
        "      x = F.relu(self.conv_2(x))\n",
        "      #print(x.size())\n",
        "      x = self.max_pool_2(x)\n",
        "      #print(x.size()) # 1, 64, 32, 75 // b, f, h, w\n",
        "      x = F.relu(self.conv_3(x))\n",
        "      #print(\"3\")\n",
        "      #print(x.size())\n",
        "      x = self.max_pool_3(x)\n",
        "      #print(x.size()) # 1, 64, 32, 75 // b, f, h, w\n",
        "      # Setup a permutation for the rnn layers\n",
        "      x = x.permute(0, 3, 1, 2) # 1, 75, 64, 32 // we do this to look at the width of the image\n",
        "      #print(x.size())\n",
        "      x = x.view(bs, x.size(1), -1)\n",
        "      #print(x.size())\n",
        "      x = self.linear_1(x)\n",
        "      x = self.drop_1(x)\n",
        "      #print(x.size())\n",
        "      x, _ = self.gru(x)\n",
        "      #print(x.size())\n",
        "      x = self.output(x)\n",
        "      #print(x.size())\n",
        "      x = x.permute(1, 0, 2) # timesteps, batchsize, values -> for CTC must go in this order\n",
        "      #print(x.size())\n",
        "      if targets is not None:\n",
        "          log_softmax_values = F.log_softmax(x, 2)\n",
        "          input_lengths = torch.full(\n",
        "              size=(bs, ), fill_value=log_softmax_values.size(0),\n",
        "              dtype=torch.int32\n",
        "          )\n",
        "          #print(input_lengths)\n",
        "          target_lengths = torch.full(\n",
        "              size=(bs, ), fill_value=targets.size(1),\n",
        "              dtype=torch.int32\n",
        "          )\n",
        "          #print(target_lengths)\n",
        "          ctc_loss = nn.CTCLoss(blank=0)(\n",
        "              log_softmax_values, targets, input_lengths, target_lengths\n",
        "          )\n",
        "          p = torch.exp(-1*ctc_loss)\n",
        "          focal_ctc_loss= torch.mul(torch.mul(0.5,torch.pow((1-p),2.0)),ctc_loss)\n",
        "          loss = torch.mean(focal_ctc_loss)\n",
        "          return x, loss \n",
        "      return x, None\n",
        "\n",
        "\n"
      ],
      "execution_count": null,
      "outputs": []
    },
    {
      "cell_type": "code",
      "metadata": {
        "id": "OLnNHAvCPYpX"
      },
      "source": [
        "mm = MusicModel(music_dataset.vocabulary_size)\n",
        "img = torch.rand(16, 1, 128, 300)\n",
        "target = torch.randint(1, 20, (16, 5))\n",
        "x, loss = mm(img, target)"
      ],
      "execution_count": null,
      "outputs": []
    },
    {
      "cell_type": "code",
      "metadata": {
        "colab": {
          "base_uri": "https://localhost:8080/"
        },
        "id": "nJ08lFNInBfw",
        "outputId": "a5487197-88ee-4d96-f53e-46f1e804d06f"
      },
      "source": [
        "model = MusicModel(music_dataset.vocabulary_size)\n",
        "#PATH = \"/content/drive/MyDrive/CPEN 291 Project/music_classifer_double_model.pth\" \n",
        "#model.load_state_dict(torch.load(PATH))\n",
        "\n",
        "#model.eval() or model.train()\n",
        "\n",
        "#torch.nn.init.xavier_uniform_(torch.empty(256,256))\n",
        "device = torch.device('cuda:0')\n",
        "model.to(device)"
      ],
      "execution_count": null,
      "outputs": [
        {
          "output_type": "execute_result",
          "data": {
            "text/plain": [
              "MusicModel(\n",
              "  (conv_1): Conv2d(1, 32, kernel_size=(3, 3), stride=(1, 1), padding=(1, 1))\n",
              "  (max_pool_1): MaxPool2d(kernel_size=(2, 2), stride=(2, 2), padding=0, dilation=1, ceil_mode=False)\n",
              "  (conv_2): Conv2d(32, 64, kernel_size=(3, 3), stride=(1, 1), padding=(1, 1))\n",
              "  (max_pool_2): MaxPool2d(kernel_size=(2, 2), stride=(2, 2), padding=0, dilation=1, ceil_mode=False)\n",
              "  (conv_3): Conv2d(64, 128, kernel_size=(3, 3), stride=(1, 1), padding=(1, 1))\n",
              "  (max_pool_3): MaxPool2d(kernel_size=(2, 2), stride=(2, 2), padding=0, dilation=1, ceil_mode=False)\n",
              "  (conv_4): Conv2d(128, 256, kernel_size=(3, 3), stride=(1, 1), padding=(1, 1))\n",
              "  (max_pool_4): MaxPool2d(kernel_size=(2, 2), stride=(2, 2), padding=0, dilation=1, ceil_mode=False)\n",
              "  (linear_1): Linear(in_features=2048, out_features=256, bias=True)\n",
              "  (drop_1): Dropout(p=0.2, inplace=False)\n",
              "  (gru): GRU(256, 128, num_layers=2, batch_first=True, dropout=0.25, bidirectional=True)\n",
              "  (output): Linear(in_features=256, out_features=1782, bias=True)\n",
              ")"
            ]
          },
          "metadata": {
            "tags": []
          },
          "execution_count": 44
        }
      ]
    },
    {
      "cell_type": "code",
      "metadata": {
        "id": "aT9nZE6N0Sbg"
      },
      "source": [
        "optimizer = torch.optim.Adam(model.parameters(), lr = 3e-4)\n",
        "scheduler = torch.optim.lr_scheduler.ReduceLROnPlateau(\n",
        "    optimizer, factor=0.8, patience=5, verbose=True\n",
        "    )"
      ],
      "execution_count": null,
      "outputs": []
    },
    {
      "cell_type": "code",
      "metadata": {
        "id": "0bdYyPCM_TmT"
      },
      "source": [
        "from torch.autograd import Variable\n",
        "from torch.cuda.amp import GradScaler, autocast\n",
        "\n",
        "scaler = GradScaler()\n",
        "gradient_accumulations = 4\n",
        "\n",
        "def run_test(model, no_preds=False):\n",
        "    nsamples_test = len(dataset_test)\n",
        "    loss_total = 0\n",
        "    sample = None\n",
        "    model.eval()\n",
        "    with torch.no_grad():\n",
        "        for _data in test_loader:\n",
        "            music_sheet_samples, labels = _data\n",
        "            music_sheet_samples = music_sheet_samples.to(device)\n",
        "            labels = labels.to(device)\n",
        "\n",
        "            output, loss = model(music_sheet_samples, labels)\n",
        "\n",
        "           # truth_predictions = []\n",
        "           # for label in labels.detach().cpu().numpy():\n",
        "           #     pred = [music_dataset.index2symbol[x] for x in label]\n",
        "           #     truth_predictions.append(pred)\n",
        "         \n",
        "            #current_preds = decode_predictions(output)\n",
        "            \n",
        "            # Print example predictions labels\n",
        "            #print(current_preds[1])\n",
        "            #print(truth_predictions[1])\n",
        "\n",
        "            loss_total += loss \n",
        "\n",
        "    return loss_total / nsamples_test\n",
        "\n",
        "def run_train(model, opt, sched):\n",
        "    nsamples_train = len(dataset_train)\n",
        "    loss_sofar = 0\n",
        "    model.train()\n",
        "    with torch.enable_grad():\n",
        "        i = 0\n",
        "        for _data in tqdm(train_loader, desc='iters', leave=False):\n",
        "            music_sheet_samples = Variable(_data[0]) \n",
        "            labels = Variable(_data[1])\n",
        "            music_sheet_samples = music_sheet_samples.to(device)\n",
        "            labels = labels.to(device)\n",
        "            opt.zero_grad()\n",
        "\n",
        "            preds, loss = model(music_sheet_samples, labels)\n",
        "            #scaler.scale(loss / gradient_accumulations).backward()\n",
        "      \n",
        "            loss.backward()\n",
        "\n",
        "            opt.step()\n",
        "            model.zero_grad() \n",
        "\n",
        "            #if (i + 1) % gradient_accumulations == 0:\n",
        "            #  scaler.step(opt)\n",
        "            #  scaler.update()\n",
        "            #  model.zero_grad()\n",
        " \n",
        "            i += 1\n",
        "            loss_sofar += loss \n",
        "   \n",
        "    return loss_sofar / nsamples_train\n",
        "\n",
        "def run_all(model, optimizer, scheduler, n_epochs):\n",
        "    for epoch in tqdm(range(n_epochs), desc='epochs'):\n",
        "        loss_train = run_train(model, optimizer, scheduler)\n",
        "        loss_test = run_test(model, no_preds=True) \n",
        "        path = \"/content/drive/MyDrive/CPEN 291 Project/music_classifer_double_model.pth\" \n",
        "        torch.save(model.state_dict(), path)\n",
        "        tqdm.write(f\"epoch {epoch+1}: train loss {loss_train:.4f}, test loss {loss_test:.4f}\")"
      ],
      "execution_count": null,
      "outputs": []
    },
    {
      "cell_type": "code",
      "metadata": {
        "id": "m382-NyGrpM4"
      },
      "source": [
        "output = run_all(model, optimizer, scheduler, 20)"
      ],
      "execution_count": null,
      "outputs": []
    },
    {
      "cell_type": "code",
      "metadata": {
        "id": "snJQQ1BRbsqi"
      },
      "source": [
        "# Save our model \n",
        "path = \"/content/drive/MyDrive/CPEN 291 Project/music_classifer_single_batch_model.pth\" \n",
        "torch.save(model.state_dict(), path)"
      ],
      "execution_count": null,
      "outputs": []
    },
    {
      "cell_type": "code",
      "metadata": {
        "id": "smDSzFqHJIdn"
      },
      "source": [
        "import numpy\n",
        "\n",
        "def decode_predictions(preds):\n",
        "    preds = preds.permute(1, 0, 2) # batch-size, timestamps, predictions\n",
        "    preds = torch.softmax(preds, 2)\n",
        "    preds = torch.argmax(preds, 2)\n",
        "    preds = preds.detach().cpu().numpy()\n",
        "    cap_preds = []\n",
        "    for p in preds:\n",
        "      temp = []\n",
        "      for k in p:\n",
        "          k = k - 1 \n",
        "          if (k == -1):\n",
        "            continue\n",
        "            #temp.append('-') # our blank symbol for the ctc function\n",
        "          else:\n",
        "            k += 1\n",
        "            temp.append(music_dataset.index2symbol[k])\n",
        "      cap_preds.append(temp)\n",
        "    return cap_preds "
      ],
      "execution_count": null,
      "outputs": []
    },
    {
      "cell_type": "code",
      "metadata": {
        "id": "OaNTP-WOyq6Y"
      },
      "source": [
        "sample = None\n",
        "test_loader_1 = torch.utils.data.DataLoader(dataset=dataset_test,\n",
        "                                batch_size=1,\n",
        "                                shuffle=True)\n",
        "for _data in test_loader_1:\n",
        "  sample, labels = _data\n",
        "  break"
      ],
      "execution_count": null,
      "outputs": []
    },
    {
      "cell_type": "code",
      "metadata": {
        "id": "BmMF0VArg1gi"
      },
      "source": [
        "sample = music_dataset[10][0].to(device)\n",
        "labels = music_dataset[10][1].to(device)"
      ],
      "execution_count": null,
      "outputs": []
    },
    {
      "cell_type": "code",
      "metadata": {
        "id": "gizVMkhGzKzg"
      },
      "source": [
        "sample = sample.to(device)\n",
        "labels = labels.to(device)"
      ],
      "execution_count": null,
      "outputs": []
    },
    {
      "cell_type": "code",
      "metadata": {
        "id": "73laGSMRvI5b"
      },
      "source": [
        "def resize(image, height):\n",
        "    width = int(float(height * image.shape[1]) / image.shape[0])\n",
        "    sample_img = cv2.resize(image, (width, height))\n",
        "    return sample_img\n",
        "def normalize(image):\n",
        "    return (255. - image)/255."
      ],
      "execution_count": null,
      "outputs": []
    },
    {
      "cell_type": "code",
      "metadata": {
        "id": "fk0kFvhPvH9_"
      },
      "source": [
        "import cv2\n",
        "image = cv2.imread('test.png',False)\n",
        "image = resize(image, 128)\n",
        "image = normalize(image)\n",
        "image = np.asarray(image).reshape(1, 1, image.shape[0],image.shape[1])\n",
        "sample = torch.Tensor(image)\n",
        "sample = sample.type(torch.FloatTensor)\n",
        "sample = sample.to(device)"
      ],
      "execution_count": null,
      "outputs": []
    },
    {
      "cell_type": "code",
      "metadata": {
        "id": "Kmy7QXtujlCs"
      },
      "source": [
        "from PIL import * \n",
        "xform = torchvision.transforms.Compose([torchvision.transforms.Resize(128), torchvision.transforms.ToTensor()])\n",
        "img = PIL.Image.open('test.png')\n",
        "img = ImageOps.grayscale(img)\n",
        "img = ImageOps.invert(img)\n",
        "sample = xform(img)\n",
        "sample = sample.type(torch.FloatTensor)\n",
        "sample = sample.to(device)"
      ],
      "execution_count": null,
      "outputs": []
    },
    {
      "cell_type": "code",
      "metadata": {
        "colab": {
          "base_uri": "https://localhost:8080/"
        },
        "id": "wc_PNEtmhEO4",
        "outputId": "26352b39-2c90-43b8-a7b2-0a1fa07ae6d2"
      },
      "source": [
        "sample = sample.unsqueeze(1)\n",
        "sample.size()"
      ],
      "execution_count": null,
      "outputs": [
        {
          "output_type": "execute_result",
          "data": {
            "text/plain": [
              "torch.Size([1, 1, 128, 603])"
            ]
          },
          "metadata": {
            "tags": []
          },
          "execution_count": 70
        }
      ]
    },
    {
      "cell_type": "code",
      "metadata": {
        "id": "YQx988m_yuI0"
      },
      "source": [
        "output, _ = model(sample)"
      ],
      "execution_count": null,
      "outputs": []
    },
    {
      "cell_type": "code",
      "metadata": {
        "colab": {
          "base_uri": "https://localhost:8080/",
          "height": 139
        },
        "id": "Qhzu4ZMOE1Gx",
        "outputId": "a7f37095-99e9-4318-9270-21c65816c65b"
      },
      "source": [
        "predictions = decode_predictions(output)\n",
        "show_img(sample[0])\n",
        "print(predictions[0])"
      ],
      "execution_count": null,
      "outputs": [
        {
          "output_type": "stream",
          "text": [
            "['clef-G2', 'keySignature-DM', 'timeSignature-2/4', 'rest-sixteenth', 'note-F#4_sixteenth', 'note-G4_sixteenth', 'note-A4_sixteenth', 'note-F#4_eighth', 'note-F#4_eighth', 'note-D5_eighth', 'note-D5_eighth', 'note-C#5_sixteenth', 'note-B4_sixteenth', 'note-C#5_sixteenth', 'note-D5_sixteenth', 'note-E5_eighth', 'tie', 'note-E5_sixteenth', 'note-A4_sixteenth', 'note-B4_sixteenth', 'note-C#5_sixteenth']\n"
          ],
          "name": "stdout"
        },
        {
          "output_type": "display_data",
          "data": {
            "image/png": "[encoded data removed]",
            "text/plain": [
              "<Figure size 432x288 with 1 Axes>"
            ]
          },
          "metadata": {
            "tags": [],
            "needs_background": "light"
          }
        }
      ]
    },
    {
      "cell_type": "code",
      "metadata": {
        "colab": {
          "base_uri": "https://localhost:8080/",
          "height": 139
        },
        "id": "xeS4XY_765xK",
        "outputId": "d20713b3-4b88-45cb-f5d3-c9f80c93314c"
      },
      "source": [
        "predictions = decode_predictions(output)\n",
        "show_img(sample[0])\n",
        "print(predictions[0])"
      ],
      "execution_count": null,
      "outputs": [
        {
          "output_type": "stream",
          "text": [
            "['clef-G2', 'keySignature-DM', 'timeSignature-2/4', 'rest-sixteenth', 'note-F#4_sixteenth', 'note-G4_sixteenth', 'note-A4_sixteenth', 'note-F#4_eighth', 'note-F#4_eighth', 'note-D5_eighth', 'note-D5_eighth', 'note-C#5_sixteenth', 'note-B4_sixteenth', 'note-C#5_sixteenth', 'note-D5_sixteenth', 'note-E5_eighth', 'tie', 'note-E5_sixteenth', 'note-A4_sixteenth', 'note-B4_sixteenth', 'note-C#5_sixteenth']\n"
          ],
          "name": "stdout"
        },
        {
          "output_type": "display_data",
          "data": {
            "image/png": "[encoded data removed]",
            "text/plain": [
              "<Figure size 432x288 with 1 Axes>"
            ]
          },
          "metadata": {
            "tags": [],
            "needs_background": "light"
          }
        }
      ]
    },
    {
      "cell_type": "code",
      "metadata": {
        "colab": {
          "base_uri": "https://localhost:8080/"
        },
        "id": "0BSwmv_JLDet",
        "outputId": "b3be3073-a122-4158-cd81-5e6dee1317ff"
      },
      "source": [
        "# Compare to the ground-truth predictions \n",
        "predictions = decode_predictions(output)\n",
        "idx = 0\n",
        "pred = [music_dataset.index2symbol[x] for x in labels[0].detach().cpu().numpy()]\n",
        "print(pred)\n",
        "print(predictions[idx])"
      ],
      "execution_count": null,
      "outputs": [
        {
          "output_type": "stream",
          "text": [
            "['clef-C3', 'keySignature-FM', 'timeSignature-C/', 'note-G3_eighth', 'note-A3_eighth', 'barline', 'note-Bb3_quarter', 'note-G3_quarter', 'note-D4_quarter.', 'note-G4_eighth', 'barline', 'note-F#4_half.', 'note-Bb4_eighth', 'note-A4_eighth', 'barline', 'note-G4_quarter', 'note-F4_eighth.', 'note-Eb4_sixteenth', 'note-D4_quarter.', 'note-D4_eighth', 'barline', 'note-Eb4_quarter', 'note-C4_half', 'rest-quarter', 'barline']\n",
            "['clef-C3', 'timeSignature-C']\n"
          ],
          "name": "stdout"
        }
      ]
    },
    {
      "cell_type": "markdown",
      "metadata": {
        "id": "ILT6ijB7zXuX"
      },
      "source": [
        ""
      ]
    }
  ]
}