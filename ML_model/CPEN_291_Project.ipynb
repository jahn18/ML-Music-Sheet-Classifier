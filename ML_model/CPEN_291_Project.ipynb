{
  "nbformat": 4,
  "nbformat_minor": 0,
  "metadata": {
    "colab": {
      "name": "CPEN 291 Project.ipynb",
      "provenance": [],
      "collapsed_sections": []
    },
    "kernelspec": {
      "name": "python3",
      "display_name": "Python 3"
    },
    "language_info": {
      "name": "python"
    }
  },
  "cells": [
    {
      "cell_type": "code",
      "metadata": {
        "id": "yKHUqLY7s9AT"
      },
      "source": [
        "import torch, torchvision, PIL, numpy as np\n",
        "import pathlib\n",
        "import PIL\n",
        "import matplotlib.pyplot as plt\n",
        "import matplotlib.patches as patches\n",
        "import csv\n",
        "import pandas as pd\n",
        "import pdb\n",
        "import numpy as np\n",
        "import cv2\n",
        "import random\n",
        "from crnn import CRNN as crnn"
      ],
      "execution_count": null,
      "outputs": []
    },
    {
      "cell_type": "code",
      "metadata": {
        "colab": {
          "base_uri": "https://localhost:8080/"
        },
        "id": "lrKy6xY7B6j5",
        "outputId": "956a41e7-a30b-4b0a-efed-23e17fdbd33a"
      },
      "source": [
        "!wget https://raw.githubusercontent.com/OMR-Research/tf-end-to-end/master/Data/vocabulary_semantic.txt"
      ],
      "execution_count": null,
      "outputs": [
        {
          "output_type": "stream",
          "text": [
            "--2021-04-01 01:30:33--  https://raw.githubusercontent.com/OMR-Research/tf-end-to-end/master/Data/vocabulary_semantic.txt\n",
            "Resolving raw.githubusercontent.com (raw.githubusercontent.com)... 185.199.108.133, 185.199.109.133, 185.199.110.133, ...\n",
            "Connecting to raw.githubusercontent.com (raw.githubusercontent.com)|185.199.108.133|:443... connected.\n",
            "HTTP request sent, awaiting response... 200 OK\n",
            "Length: 33921 (33K) [text/plain]\n",
            "Saving to: ‘vocabulary_semantic.txt’\n",
            "\n",
            "\rvocabulary_semantic   0%[                    ]       0  --.-KB/s               \rvocabulary_semantic 100%[===================>]  33.13K  --.-KB/s    in 0.001s  \n",
            "\n",
            "2021-04-01 01:30:34 (34.3 MB/s) - ‘vocabulary_semantic.txt’ saved [33921/33921]\n",
            "\n"
          ],
          "name": "stdout"
        }
      ]
    },
    {
      "cell_type": "code",
      "metadata": {
        "id": "M8n0-G6ntiJH"
      },
      "source": [
        "# You can get more datasets here https://repository.cloudlab.zhaw.ch/artifactory/deepscores/archives/2017/\n",
        "!wget https://grfia.dlsi.ua.es/primus/packages/primusCalvoRizoAppliedSciences2018.tgz\n",
        "!wget https://grfia.dlsi.ua.es/primus/packages/CameraPrIMuS.tgz"
      ],
      "execution_count": null,
      "outputs": []
    },
    {
      "cell_type": "code",
      "metadata": {
        "id": "w2Den4MDy-fh"
      },
      "source": [
        "!tar -xvf CameraPrIMuS.tgz \n",
        "!tar -xvf primusCalvoRizoAppliedSciences2018.tgz "
      ],
      "execution_count": null,
      "outputs": []
    },
    {
      "cell_type": "code",
      "metadata": {
        "id": "vKmdtxBmUoF2"
      },
      "source": [
        "!wget https://raw.githubusercontent.com/OMR-Research/tf-end-to-end/master/ctc_utils.py\n",
        "!wget https://raw.githubusercontent.com/OMR-Research/tf-end-to-end/master/primus.py "
      ],
      "execution_count": null,
      "outputs": []
    },
    {
      "cell_type": "code",
      "metadata": {
        "id": "stZMYBH9Wh0G"
      },
      "source": [
        "!wget https://raw.githubusercontent.com/OMR-Research/tf-end-to-end/master/Data/train.txt\n",
        "!wget https://raw.githubusercontent.com/OMR-Research/tf-end-to-end/master/Data/test.txt"
      ],
      "execution_count": null,
      "outputs": []
    },
    {
      "cell_type": "code",
      "metadata": {
        "colab": {
          "base_uri": "https://localhost:8080/"
        },
        "id": "AWyD3LC9XeWu",
        "outputId": "65086649-4c56-43e0-e530-75e39fa54d16"
      },
      "source": [
        "!wget https://raw.githubusercontent.com/meijieru/crnn.pytorch/master/models/crnn.py"
      ],
      "execution_count": null,
      "outputs": [
        {
          "output_type": "stream",
          "text": [
            "--2021-04-01 05:29:03--  https://raw.githubusercontent.com/meijieru/crnn.pytorch/master/models/crnn.py\n",
            "Resolving raw.githubusercontent.com (raw.githubusercontent.com)... 185.199.108.133, 185.199.109.133, 185.199.110.133, ...\n",
            "Connecting to raw.githubusercontent.com (raw.githubusercontent.com)|185.199.108.133|:443... connected.\n",
            "HTTP request sent, awaiting response... 200 OK\n",
            "Length: 2554 (2.5K) [text/plain]\n",
            "Saving to: ‘crnn.py’\n",
            "\n",
            "\rcrnn.py               0%[                    ]       0  --.-KB/s               \rcrnn.py             100%[===================>]   2.49K  --.-KB/s    in 0s      \n",
            "\n",
            "2021-04-01 05:29:04 (42.5 MB/s) - ‘crnn.py’ saved [2554/2554]\n",
            "\n"
          ],
          "name": "stdout"
        }
      ]
    },
    {
      "cell_type": "code",
      "metadata": {
        "id": "DT51mf9Sutvg"
      },
      "source": [
        "class MusicClassificationObject:\n",
        "\n",
        "  def __init__(self, dataset_dir, dataset_filenames, dictionary_path, transform=None, distortions=False):\n",
        "        self.distortions = distortions\n",
        "        self.dataset_dir = dataset_dir\n",
        "        self.transform = transform \n",
        "\n",
        "        dataset_filenames = open(dataset_filenames,'r')\n",
        "        dataset_list = dataset_filenames.read().splitlines()\n",
        "        dataset_filenames.close()\n",
        "\n",
        "        self.current_idx = 0\n",
        "\n",
        "        # Dictionary\n",
        "        self.symbol2index = {}\n",
        "        self.index2symbol = {}\n",
        "            \n",
        "        dict_file = open(dictionary_path,'r')\n",
        "        dict_list = dict_file.read().splitlines()\n",
        "        word_idx = 0\n",
        "        for word in dict_list:\n",
        "          self.symbol2index[word] = word_idx\n",
        "          self.index2symbol[word_idx] = word\n",
        "          word_idx += 1 \n",
        "\n",
        "        dict_file.close()\n",
        "\n",
        "        self.dataset = self.createDataset(dataset_list)\n",
        "        self.vocabulary_size = len(self.symbol2index)\n",
        "  \n",
        "  def createDataset(self, dataset_list):\n",
        "    dataset = []\n",
        "    i = 0\n",
        "    for sample in dataset_list:\n",
        "      sample_filepath = self.dataset_dir + '/' + sample + '/' + sample\n",
        "      sample_semantic = sample_filepath + '.semantic'\n",
        "      sample_gt_file = open(sample_semantic, 'r')\n",
        "      sample_gt_plain = sample_gt_file.readline().split()\n",
        "      sample_gt_file.close()\n",
        "      # (img file name, all the notations sequentially related to the file)\n",
        "      dataset.append((sample_filepath + '.png', [self.symbol2index[lab] for lab in sample_gt_plain]))\n",
        "    return dataset\n",
        "\n",
        "  def __len__(self):\n",
        "    return len(self.dataset)\n",
        "  \n",
        "  def __getitem__(self, i):\n",
        "    if torch.is_tensor(i):\n",
        "        i = i.item()\n",
        "    imgfn, label = self.dataset[i]\n",
        "    img = PIL.Image.open(imgfn)\n",
        "    if self.transform:\n",
        "        img = self.transform(img)\n",
        "    return (img, label)\n"
      ],
      "execution_count": null,
      "outputs": []
    },
    {
      "cell_type": "code",
      "metadata": {
        "id": "vd_ME7pQ1QiC"
      },
      "source": [
        "xform = torchvision.transforms.Compose([torchvision.transforms.ToTensor()])\n",
        "music_dataset = MusicClassificationObject('Corpus', 'train.txt', 'vocabulary_semantic.txt', xform)"
      ],
      "execution_count": null,
      "outputs": []
    },
    {
      "cell_type": "code",
      "metadata": {
        "colab": {
          "base_uri": "https://localhost:8080/"
        },
        "id": "m7vYJGfS21Yc",
        "outputId": "04085921-ee96-41ce-9046-c7b1f3f8d7c4"
      },
      "source": [
        "music_dataset[156]\n",
        "#len(music_dataset)"
      ],
      "execution_count": null,
      "outputs": [
        {
          "output_type": "execute_result",
          "data": {
            "text/plain": [
              "(tensor([[[0., 0., 0.,  ..., 0., 0., 0.],\n",
              "          [0., 0., 0.,  ..., 0., 0., 0.],\n",
              "          [0., 0., 0.,  ..., 0., 0., 0.],\n",
              "          ...,\n",
              "          [0., 0., 0.,  ..., 0., 0., 0.],\n",
              "          [0., 0., 0.,  ..., 0., 0., 0.],\n",
              "          [0., 0., 0.,  ..., 0., 0., 0.]]]),\n",
              " [10,\n",
              "  228,\n",
              "  1780,\n",
              "  1059,\n",
              "  0,\n",
              "  1064,\n",
              "  1727,\n",
              "  1730,\n",
              "  453,\n",
              "  0,\n",
              "  447,\n",
              "  1727,\n",
              "  1730,\n",
              "  1467,\n",
              "  0,\n",
              "  1459,\n",
              "  1730,\n",
              "  460,\n",
              "  1671,\n",
              "  1477,\n",
              "  1232,\n",
              "  0,\n",
              "  1036,\n",
              "  1019,\n",
              "  1044,\n",
              "  1467,\n",
              "  1452,\n",
              "  1477,\n",
              "  0])"
            ]
          },
          "metadata": {
            "tags": []
          },
          "execution_count": 99
        }
      ]
    },
    {
      "cell_type": "code",
      "metadata": {
        "id": "iDtm97Rb3wKt"
      },
      "source": [
        "def show_img(sample, title=None):\n",
        "    img, _ = sample\n",
        "    if torch.is_tensor(img):\n",
        "        img = img.cpu().permute(1,2,0)\n",
        "    plt.imshow(img[:,:,0])\n",
        "    if title:\n",
        "        plt.title(title) # add color='w' arg if using a dark background\n",
        "    plt.axis('off')"
      ],
      "execution_count": null,
      "outputs": []
    },
    {
      "cell_type": "code",
      "metadata": {
        "colab": {
          "base_uri": "https://localhost:8080/",
          "height": 72
        },
        "id": "UGzjGE1f37RR",
        "outputId": "9d344ef0-327e-4c39-b948-66b222fff291"
      },
      "source": [
        "show_img(music_dataset[14])"
      ],
      "execution_count": null,
      "outputs": [
        {
          "output_type": "display_data",
          "data": {
            "image/png": "[encoded data removed]",
            "text/plain": [
              "<Figure size 432x288 with 1 Axes>"
            ]
          },
          "metadata": {
            "tags": [],
            "needs_background": "light"
          }
        }
      ]
    },
    {
      "cell_type": "code",
      "metadata": {
        "id": "uYh-q4v9oUrv",
        "colab": {
          "base_uri": "https://localhost:8080/",
          "height": 235
        },
        "outputId": "64790ad2-35e6-4387-d77d-ac36911d0370"
      },
      "source": [
        "n_all_det = len(SOMEDATASET)\n",
        "n_used_det = int(1 * n_all_det)\n",
        "n_train_det = int(0.8 * n_used_det)\n",
        "n_test_det = n_used_det - n_train_det\n",
        "rng_det = torch.Generator().manual_seed(291)\n",
        "dataset_train_det, dataset_test_det, _ = torch.utils.data.random_split(SOMEDATASET, [n_train_det, n_test_det, n_all_det-n_train_det-n_test_det], rng_det)"
      ],
      "execution_count": null,
      "outputs": [
        {
          "output_type": "error",
          "ename": "NameError",
          "evalue": "ignored",
          "traceback": [
            "\u001b[0;31m---------------------------------------------------------------------------\u001b[0m",
            "\u001b[0;31mNameError\u001b[0m                                 Traceback (most recent call last)",
            "\u001b[0;32m<ipython-input-12-4dfbc112a9da>\u001b[0m in \u001b[0;36m<module>\u001b[0;34m()\u001b[0m\n\u001b[0;32m----> 1\u001b[0;31m \u001b[0mn_all_det\u001b[0m \u001b[0;34m=\u001b[0m \u001b[0mlen\u001b[0m\u001b[0;34m(\u001b[0m\u001b[0mSOMEDATASET\u001b[0m\u001b[0;34m)\u001b[0m\u001b[0;34m\u001b[0m\u001b[0;34m\u001b[0m\u001b[0m\n\u001b[0m\u001b[1;32m      2\u001b[0m \u001b[0mn_used_det\u001b[0m \u001b[0;34m=\u001b[0m \u001b[0mint\u001b[0m\u001b[0;34m(\u001b[0m\u001b[0;36m1\u001b[0m \u001b[0;34m*\u001b[0m \u001b[0mn_all_det\u001b[0m\u001b[0;34m)\u001b[0m\u001b[0;34m\u001b[0m\u001b[0;34m\u001b[0m\u001b[0m\n\u001b[1;32m      3\u001b[0m \u001b[0mn_train_det\u001b[0m \u001b[0;34m=\u001b[0m \u001b[0mint\u001b[0m\u001b[0;34m(\u001b[0m\u001b[0;36m0.8\u001b[0m \u001b[0;34m*\u001b[0m \u001b[0mn_used_det\u001b[0m\u001b[0;34m)\u001b[0m\u001b[0;34m\u001b[0m\u001b[0;34m\u001b[0m\u001b[0m\n\u001b[1;32m      4\u001b[0m \u001b[0mn_test_det\u001b[0m \u001b[0;34m=\u001b[0m \u001b[0mn_used_det\u001b[0m \u001b[0;34m-\u001b[0m \u001b[0mn_train_det\u001b[0m\u001b[0;34m\u001b[0m\u001b[0;34m\u001b[0m\u001b[0m\n\u001b[1;32m      5\u001b[0m \u001b[0mrng_det\u001b[0m \u001b[0;34m=\u001b[0m \u001b[0mtorch\u001b[0m\u001b[0;34m.\u001b[0m\u001b[0mGenerator\u001b[0m\u001b[0;34m(\u001b[0m\u001b[0;34m)\u001b[0m\u001b[0;34m.\u001b[0m\u001b[0mmanual_seed\u001b[0m\u001b[0;34m(\u001b[0m\u001b[0;36m291\u001b[0m\u001b[0;34m)\u001b[0m\u001b[0;34m\u001b[0m\u001b[0;34m\u001b[0m\u001b[0m\n",
            "\u001b[0;31mNameError\u001b[0m: name 'SOMEDATASET' is not defined"
          ]
        }
      ]
    },
    {
      "cell_type": "code",
      "metadata": {
        "id": "nJ08lFNInBfw"
      },
      "source": [
        ""
      ],
      "execution_count": null,
      "outputs": []
    }
  ]
}